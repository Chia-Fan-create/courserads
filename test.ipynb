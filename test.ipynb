# 註解
# 第一支程式
# 註解程式檔案：副檔名用 py
print("Hello Python 2")
